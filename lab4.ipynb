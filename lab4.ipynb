{
  "nbformat": 4,
  "nbformat_minor": 0,
  "metadata": {
    "colab": {
      "provenance": [],
      "toc_visible": true,
      "authorship_tag": "ABX9TyOiT92g2nanN7widpNX0iub",
      "include_colab_link": true
    },
    "kernelspec": {
      "name": "python3",
      "display_name": "Python 3"
    },
    "language_info": {
      "name": "python"
    }
  },
  "cells": [
    {
      "cell_type": "markdown",
      "metadata": {
        "id": "view-in-github",
        "colab_type": "text"
      },
      "source": [
        "<a href=\"https://colab.research.google.com/github/p3pp3rm1n7/programming/blob/main/lab4.ipynb\" target=\"_parent\"><img src=\"https://colab.research.google.com/assets/colab-badge.svg\" alt=\"Open In Colab\"/></a>"
      ]
    },
    {
      "cell_type": "markdown",
      "source": [
        "4.2.1\n",
        "Условный опратор\n",
        "\n",
        "Рассчитать значение f при заданном значении вещественного числа x:\n",
        "\n",
        "f(x)=⎧⎩⎨⎪⎪x−−√+x2,1x,при x⩾0,в противном случае. При выводе на экран оставьте 2 знака после запятой."
      ],
      "metadata": {
        "id": "ThkKQRq6m4_Y"
      }
    },
    {
      "cell_type": "code",
      "source": [
        "x = float int(input (\"Введите число:\"))\n",
        "if(x>=0) :\n",
        "  x=x**0.5 + x**2\n",
        "else:\n",
        "  x=1/x\n",
        "print(round(x,2))"
      ],
      "metadata": {
        "colab": {
          "base_uri": "https://localhost:8080/"
        },
        "id": "UEIXMcapm7Qi",
        "outputId": "4b0069e6-1358-472b-db80-8fe616693b02"
      },
      "execution_count": null,
      "outputs": [
        {
          "output_type": "stream",
          "name": "stdout",
          "text": [
            "Введите число:12\n",
            "147.46\n"
          ]
        }
      ]
    },
    {
      "cell_type": "markdown",
      "source": [
        "№ 4.2.2\n",
        "\n",
        "Определите максимальное и минимальное значения из двух различных целых чисел."
      ],
      "metadata": {
        "id": "7_g7lusN2Slf"
      }
    },
    {
      "cell_type": "code",
      "source": [
        "a=int(input(\"\"))\n",
        "b=int(input(\"\"))\n",
        "if a==b:\n",
        "  print (\"Числа одинаковы\")\n",
        "else:\n",
        "  print(\"Максимальное число:\", max(a,b))"
      ],
      "metadata": {
        "id": "szRGKEDt2VcA",
        "colab": {
          "base_uri": "https://localhost:8080/"
        },
        "outputId": "7ba3db25-b397-447b-cc7a-9567ae0513c8"
      },
      "execution_count": null,
      "outputs": [
        {
          "output_type": "stream",
          "name": "stdout",
          "text": [
            "5\n",
            "8\n",
            "Максимальное число: 8\n"
          ]
        }
      ]
    },
    {
      "cell_type": "markdown",
      "source": [
        "№ 4.2.3\n",
        "\n",
        "Вася пытается высунуть голову в форточку размерами a и b см. Приняв условно, что его голова - круглая диаметром d см, определите, сможет ли Вася сделать это. Для прохождения головы в форточку необходим зазор в 1 см. с каждой стороны.\n",
        "\n",
        "Все величины - целые числа."
      ],
      "metadata": {
        "id": "CvCX3s4H2bqS"
      }
    },
    {
      "cell_type": "code",
      "source": [
        "\n",
        "a=int(input(\"Первое измерение \"))\n",
        "b=int(input(\"Второе измерение \"))\n",
        "d=int(input(\"Третье измерение \"))\n",
        "if (a-1>=d) and (b-1>=d):\n",
        "  print (\"Сможет пролезть\")\n",
        "else:\n",
        "  print(\"Не сможет пролезть\")\n"
      ],
      "metadata": {
        "id": "eFTRYnKV2c-Z",
        "colab": {
          "base_uri": "https://localhost:8080/"
        },
        "outputId": "ff3ba6ef-e525-4cf0-a244-2c3cf00f8153"
      },
      "execution_count": null,
      "outputs": [
        {
          "output_type": "stream",
          "name": "stdout",
          "text": [
            "Первое измерение 2\n",
            "Второе измерение 3\n",
            "Третье измерение 1\n",
            "Сможет пролезть\n"
          ]
        }
      ]
    },
    {
      "cell_type": "markdown",
      "source": [
        "#4.2.4\n",
        "\n",
        "Известны год и номер месяца сегодняшнего дня, а также год и номер месяца рождения человека (нумерация месяцев с 1: январь - 1 и т.д.). Определите возраст человека (число полных лет)."
      ],
      "metadata": {
        "id": "PsLWhKRA6LH5"
      }
    },
    {
      "cell_type": "code",
      "source": [
        "year1=int(input(\"Введите текущий год \"))\n",
        "month1=int(input(\"Введите текущий месяц \"))\n",
        "year2=int(input(\"Введите год рождения \"))\n",
        "month2=int(input(\"Введите месяц рождения \"))\n",
        "current=year1-year2\n",
        "if month2-month1<0:\n",
        "  print(\"Полных лет \",current)\n",
        "else:\n",
        "  print (\"Полных лет \", current-1)"
      ],
      "metadata": {
        "colab": {
          "base_uri": "https://localhost:8080/"
        },
        "id": "yY3BF8jI6I49",
        "outputId": "0baa92f6-de9b-4b17-d0af-b36a6e5b9d10"
      },
      "execution_count": null,
      "outputs": [
        {
          "output_type": "stream",
          "name": "stdout",
          "text": [
            "Введите текущий год 22\n",
            "Введите текущий месяц 9\n",
            "Введите год рождения 11\n",
            "Введите месяц рождения 11\n",
            "Полных лет  10\n"
          ]
        }
      ]
    },
    {
      "cell_type": "markdown",
      "source": [
        "#4.2.5\n",
        "\n",
        "Дана точка с целыми ненулевыми координатами (x;y). Определить номер четверти координатной плоскости, которой она принадлежит."
      ],
      "metadata": {
        "id": "FMHkSSQi8YLR"
      }
    },
    {
      "cell_type": "code",
      "source": [
        "x=int(input(\"Введите значение x: \"))\n",
        "y=int(input(\"Введите значение y: \"))\n",
        "if (x>0) and (y>0) :\n",
        "  print(\"Принадлежит первой четверти\")\n",
        "elif (x>0) and (y<0):\n",
        "  print(\"Принадлежит четвёртой четверти\")\n",
        "elif (x<0) and (y<0) :\n",
        "  print (\"Принадлежит третьей четверти\")\n",
        "elif (x<0) and (y>0):\n",
        "  print(\"Принадлежит второй четверти\")\n",
        "else:\n",
        "  print(\"Нельзя определить\")"
      ],
      "metadata": {
        "id": "CzD7bMIe8ex2",
        "colab": {
          "base_uri": "https://localhost:8080/"
        },
        "outputId": "32e05c5d-0c26-4b20-ac11-d52b05baf77f"
      },
      "execution_count": null,
      "outputs": [
        {
          "output_type": "stream",
          "name": "stdout",
          "text": [
            "Введите значение x: 4\n",
            "Введите значение y: 0\n",
            "Нельзя определить\n"
          ]
        }
      ]
    },
    {
      "cell_type": "markdown",
      "source": [
        "#4.2.6\n",
        "Даны вещественные числа a, b, c (a≠0).\n",
        "\n",
        "Решите уравнение ax2+bx+c=0. При выводе значений оставьте 1 знак после запятой."
      ],
      "metadata": {
        "id": "Pxo3b3iTABpr"
      }
    },
    {
      "cell_type": "code",
      "source": [
        "a=int(input())"
      ],
      "metadata": {
        "id": "L7QbTX4pAFSp"
      },
      "execution_count": null,
      "outputs": []
    },
    {
      "cell_type": "markdown",
      "source": [
        "#4.2.7\n",
        "Дана непустая последовательность целых чисел, оканчивающаяся нулем. Найти сумму и количество введенных чисел."
      ],
      "metadata": {
        "id": "E3XyswiQN5EQ"
      }
    },
    {
      "cell_type": "code",
      "source": [
        "count= 0\n",
        "sum = 0\n",
        "x=int(input(\"Введите первое число: \"))\n",
        "while x!=0:\n",
        "  count = count+1\n",
        "  sum=sum+x\n",
        "  x=int(input(\"Введите новoе число (чтобы прекатить последовательность введите 0): \"))\n",
        "print (\"Сумма чисел: \", sum)\n",
        "print (\"Количество чисел: \", count)"
      ],
      "metadata": {
        "colab": {
          "base_uri": "https://localhost:8080/"
        },
        "id": "drcNn83ON4XG",
        "outputId": "42fe793d-d012-4016-c153-2c633b19a801"
      },
      "execution_count": null,
      "outputs": [
        {
          "output_type": "stream",
          "name": "stdout",
          "text": [
            "Введите первое число: 20\n",
            "Введите новoе число (чтобы прекатить последовательность введите 0): 30\n",
            "Введите новoе число (чтобы прекатить последовательность введите 0): 40\n",
            "Введите новoе число (чтобы прекатить последовательность введите 0): 0\n",
            "Сумма чисел:  90\n",
            "Количество чисел:  3\n"
          ]
        }
      ]
    },
    {
      "cell_type": "markdown",
      "source": [
        "#4.2.8\n",
        "Дано число n. Из чисел 0,5,10,15,20,25,... напечатать те, которые не превышают n."
      ],
      "metadata": {
        "id": "maY8ointPVOn"
      }
    },
    {
      "cell_type": "code",
      "source": [
        "x=int(input(\"Введите любое целое число: \"))\n",
        "n= 15\n",
        "name=[]\n",
        "while x<=n :\n",
        " name.append(x)\n",
        " x=x+5\n",
        "print(name)"
      ],
      "metadata": {
        "colab": {
          "base_uri": "https://localhost:8080/"
        },
        "id": "1uS70tNGPVdy",
        "outputId": "3d0b141b-d8e3-4d24-a8aa-cf4686e84522"
      },
      "execution_count": null,
      "outputs": [
        {
          "output_type": "stream",
          "name": "stdout",
          "text": [
            "Введите любое целое число: -10\n",
            "[-10, -5, 0, 5, 10, 15]\n"
          ]
        }
      ]
    },
    {
      "cell_type": "markdown",
      "source": [
        "#4.2.9\n",
        "Дано вещественное число a. Найдите наименьшее натуральное n, для которого верно\n",
        "\n",
        "1+12+13+...+1n>a"
      ],
      "metadata": {
        "id": "MwgYVIXmQnPS"
      }
    },
    {
      "cell_type": "code",
      "source": [
        "a=float(input(\"Введите число a\"))\n",
        "n=1\n",
        "app = []\n",
        "app.append(n)\n",
        "while sum(app)<=a:\n",
        "  n = n+1\n",
        "  b= 1/n\n",
        "  app.append(b)\n",
        "print(n)"
      ],
      "metadata": {
        "id": "tca8wx8nUgwU"
      },
      "execution_count": null,
      "outputs": []
    },
    {
      "cell_type": "markdown",
      "source": [
        "#4.2.10\n",
        "Дано натуральное число. Определите сумму и количество его цифр."
      ],
      "metadata": {
        "id": "fJXeAiAzWQK0"
      }
    },
    {
      "cell_type": "code",
      "source": [
        "n=int(input(\"Введите натуральное число: \"))\n",
        "count=[]\n",
        "while n>10:\n",
        "  g=n%10\n",
        "  count.append(g)\n",
        "  n=n-g\n",
        "  n=n/10\n",
        "count.append(n)\n",
        "print(len(count))\n",
        "summary=0\n",
        "summary = sum(count)\n",
        "print(summary)"
      ],
      "metadata": {
        "id": "moWtyxXxWRre"
      },
      "execution_count": null,
      "outputs": []
    },
    {
      "cell_type": "markdown",
      "source": [
        "#4.2.11\n",
        "Вывести в строку 10 первых натуральных чисел, оканчивающихся на цифру k, кратных числу s и находящихся в интервале, левая граница которого равна start."
      ],
      "metadata": {
        "id": "7VfFoq69aZMQ"
      }
    },
    {
      "cell_type": "code",
      "source": [
        "start=int(input('Введите цифру, на которую будут заканчиваться числа: ')) \n",
        "s = int(input('Введите цифру, которой будут кратны числа: ')) \n",
        "k= int(input('Введите цифру, на которую будут оканчиваться числа: '))\n",
        "name = []\n",
        "for x in range(start, 999):\n",
        "  if x%10==k and x%s==0:\n",
        "        name.append(x)\n",
        "print(name[:10])"
      ],
      "metadata": {
        "colab": {
          "base_uri": "https://localhost:8080/"
        },
        "id": "M-wD2xK_bXWq",
        "outputId": "e3e02945-4177-4a0b-efdd-2a8d3049094b"
      },
      "execution_count": 51,
      "outputs": [
        {
          "output_type": "stream",
          "name": "stdout",
          "text": [
            "Введите цифру, на которую будут заканчиваться числа: 2\n",
            "Введите цифру, которой будут кратны числа: 7\n",
            "Введите цифру, на которую будут оканчиваться числа: 2\n",
            "[42, 112, 182, 252, 322, 392, 462, 532, 602, 672]\n"
          ]
        }
      ]
    },
    {
      "cell_type": "markdown",
      "source": [
        "#4.2.12\n",
        "Даны целые числа (a) и (b) ((a) может быть больше (b)). Напечатайте:\n",
        "\n",
        "числа от минимального до максимального в строчку (разделяя пробелом);\n",
        "\n",
        "числа от максимального до минимального «столбиком»."
      ],
      "metadata": {
        "id": "jbvbdhglbjMB"
      }
    },
    {
      "cell_type": "code",
      "source": [
        "a=int(input('Введите первое целое число: '))\n",
        "b=int(input('Введите второе целое число: '))\n",
        "name=[]\n",
        "word=[]\n",
        "if(a>b):\n",
        "  while (b<=a):\n",
        "    name.append(b)\n",
        "    b=b+1\n",
        "  print(name)\n",
        "  name.reverse()\n",
        "  print(*name,sep =\"\\n\")\n",
        "else:\n",
        "  while (a<=b):\n",
        "    name.append(a)\n",
        "    a=a+1\n",
        "  print(name)\n",
        "  name.reverse()\n",
        "  print(*name,sep =\"\\n\")"
      ],
      "metadata": {
        "colab": {
          "base_uri": "https://localhost:8080/"
        },
        "id": "M3VEXv8abkxh",
        "outputId": "65ba2e8f-5eb3-445a-84c8-683425f6d837"
      },
      "execution_count": 50,
      "outputs": [
        {
          "output_type": "stream",
          "name": "stdout",
          "text": [
            "Введите первое целое число: 12\n",
            "Введите второе целое число: 29\n",
            "[12, 13, 14, 15, 16, 17, 18, 19, 20, 21, 22, 23, 24, 25, 26, 27, 28, 29]\n",
            "29\n",
            "28\n",
            "27\n",
            "26\n",
            "25\n",
            "24\n",
            "23\n",
            "22\n",
            "21\n",
            "20\n",
            "19\n",
            "18\n",
            "17\n",
            "16\n",
            "15\n",
            "14\n",
            "13\n",
            "12\n"
          ]
        }
      ]
    },
    {
      "cell_type": "markdown",
      "source": [
        "#4.2.13\n",
        "Для введенных с клавиатуры положительных целых чисел (a) и (b) ((a \\leq b)) определите:\n",
        "\n",
        "сумму всех целых чисел от (a) до (b);\n",
        "\n",
        "произведение всех целых чисел от (a) до (b);\n",
        "\n",
        "среднее арифметическое всех целых чисел от (a) до (b);\n",
        "\n",
        "среднее геометрическое нечетных чисел от (a) до (b).\n",
        "\n",
        "Отрезок поиска включает сами числа (a) и (b). При выводе вещественных результатов оставьте два знака после запятой."
      ],
      "metadata": {
        "id": "G0GEuiE7cDtx"
      }
    },
    {
      "cell_type": "code",
      "source": [
        "a = int(input(\"Введите первое число: \"))\n",
        "b = int(input(\"Введите второе число (не должно быть меньше первого числа): \"))\n",
        "app = []\n",
        "if (a > b):\n",
        "    print(\"Не подходят\")\n",
        "else:\n",
        "    while (a <= b):\n",
        "        app.append(a)\n",
        "        a = a + 1\n",
        "    sumapp = sum(app)\n",
        "    print(\"Сумма: \", sumapp)\n",
        "    multiply = 1\n",
        "    a = 0\n",
        "    while a < (len(app)):\n",
        "        multiply = multiply * app[a]\n",
        "        a = a + 1\n",
        "    medium = sumapp / len(app)\n",
        "    print(\"Среднее арифмиетическое: \", medium)\n",
        "    print(\"Произведение: \", multiply)\n",
        "    b = 0\n",
        "    k = 0\n",
        "    geomet = 1\n",
        "    while b < len(app):\n",
        "        if app[b] % 2 == 1:\n",
        "            geomet = geomet * app[b]\n",
        "            b = b + 2\n",
        "            k = k + 1\n",
        "        else:\n",
        "            b = b + 1\n",
        "\n",
        "    geomet = round((geomet ** (1 / a)), 2)\n",
        "    print(\"Среднее геометрическое нечетных чисел = \", geomet)"
      ],
      "metadata": {
        "id": "ZmOoIluscEFl"
      },
      "execution_count": null,
      "outputs": []
    },
    {
      "cell_type": "markdown",
      "source": [
        "#4.2.14\n",
        "Начав тренировки, лыжник в первый день пробежал s км. (s>0, вещественное число). Каждый следующий день он увеличивал пробег на p % (0<p≤100, вещественное число) от пробега предыдущего дня. Определите:\n",
        "\n",
        "• пробег лыжника за второй, третий, …, десятый день тренировок;\n",
        "\n",
        "• какой суммарный путь он пробежал за первые 10 дней тренировок.\n",
        "\n",
        "При выводе вещественных результатов оставьте один знак после запятой."
      ],
      "metadata": {
        "id": "lbJWi8Bien-F"
      }
    },
    {
      "cell_type": "code",
      "source": [
        "s=float(input(\"Введите длину пробега лыжника: \"))\n",
        "p=float(input(\"Введите процент величения пробега: \"))\n",
        "app=[]\n",
        "a=1\n",
        "while a<=10:\n",
        "  app.append(s)\n",
        "  s=s*(1+(p/100))\n",
        "  a=a+1\n",
        "print(\"Пробег за каждый день: \" , app)\n",
        "sumapp=sum(app)\n",
        "print(\"Сумма всех пробегов: \" , sumapp)"
      ],
      "metadata": {
        "id": "1ZI5hLRwfivE"
      },
      "execution_count": null,
      "outputs": []
    },
    {
      "cell_type": "markdown",
      "source": [
        "#4.2.15\n",
        "Известна масса каждого предмета в кг., загружаемого в грузовик. Определить, возможна ли перевозка груза, если грузоподъемность грузовика равна (p) кг."
      ],
      "metadata": {
        "id": "GDeTxXMbghno"
      }
    },
    {
      "cell_type": "code",
      "source": [
        "a=float(input(\"Введите массу первого предмета: \"))\n",
        "p=float(input(\"Введите грузоподъёмность грузовика: \"))\n",
        "app=[a]\n",
        "if a<=0:\n",
        "  print(\"Ошибка ввода данных\")\n",
        "else:\n",
        "  while (a!=0):\n",
        "    a=float(input(\"Введите массу массу остальных предметов (для завершения введите 0): \"))\n",
        "    app.append(a)\n",
        "  sumapp=sum(app)\n",
        "  if(sumapp<=p):\n",
        "    print(\"Перевозка возможна\")\n",
        "  else:\n",
        "     print(\"Перевозка невозможна\")"
      ],
      "metadata": {
        "id": "j_8IXF8Pgkoh"
      },
      "execution_count": null,
      "outputs": []
    },
    {
      "cell_type": "markdown",
      "source": [
        "#4.2.16\n",
        "В области несколько районов. Заданы площади, засеваемые пшеницей (га.), и средняя урожайность (ц/га) в каждом районе.\n",
        "\n",
        "Определите количество пшеницы, собранное по области. При выводе вещественных результатов оставьте один знак после запятой."
      ],
      "metadata": {
        "id": "id0OQ7l-hRY_"
      }
    },
    {
      "cell_type": "code",
      "source": [
        "n = int(input('Введите количество районов: '))\n",
        "app=[]\n",
        "for x in range(n):\n",
        "  s = float(input(\"Введите площадь района (га): \"))\n",
        "  t = float(input(\"Введите урожайность в районе (ц/га.): \"))\n",
        "  f = s*t\n",
        "  app.append(f)\n",
        "print(round(sum(app), 1))"
      ],
      "metadata": {
        "id": "68ug3okChVXN"
      },
      "execution_count": null,
      "outputs": []
    },
    {
      "cell_type": "markdown",
      "source": [
        "#4.2.17\n",
        "Решите задачу № 4.2.7, организовав бесконечный цикл, который бы прерывался при выполнении условия, используя оператор break."
      ],
      "metadata": {
        "id": "8ODKxVShNkER"
      }
    },
    {
      "cell_type": "code",
      "source": [
        "count = 0\n",
        "sum = 0\n",
        "x=int(input(\"Введите первое число: \"))\n",
        "while (x!=0):\n",
        "  count=count+1\n",
        "  sum=sum+x\n",
        "  x=x-1\n",
        "  if (x==0):\n",
        "    break\n",
        "print (\"Cумма чисел: \", sum)\n",
        "print (\"Количество чисел: \", count)"
      ],
      "metadata": {
        "colab": {
          "base_uri": "https://localhost:8080/"
        },
        "id": "Va8xojRnMqL_",
        "outputId": "cca32bba-e694-4f00-9976-177bc0eb008c"
      },
      "execution_count": null,
      "outputs": [
        {
          "output_type": "stream",
          "name": "stdout",
          "text": [
            "Введите первое число: 12\n",
            "Cумма чисел:  78\n",
            "Количество чисел:  12\n"
          ]
        }
      ]
    }
  ]
}