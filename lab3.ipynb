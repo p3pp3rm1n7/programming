{
  "nbformat": 4,
  "nbformat_minor": 0,
  "metadata": {
    "colab": {
      "provenance": [],
      "authorship_tag": "ABX9TyOZ6cwbY7U0lVDdfY9Zc5VF",
      "include_colab_link": true
    },
    "kernelspec": {
      "name": "python3",
      "display_name": "Python 3"
    },
    "language_info": {
      "name": "python"
    }
  },
  "cells": [
    {
      "cell_type": "markdown",
      "metadata": {
        "id": "view-in-github",
        "colab_type": "text"
      },
      "source": [
        "<a href=\"https://colab.research.google.com/github/p3pp3rm1n7/programming/blob/main/lab3.ipynb\" target=\"_parent\"><img src=\"https://colab.research.google.com/assets/colab-badge.svg\" alt=\"Open In Colab\"/></a>"
      ]
    },
    {
      "cell_type": "markdown",
      "source": [
        "Выполнила:\n",
        "Родионова Е.М.\n",
        "Группа:\n",
        "АДЭУ-221"
      ],
      "metadata": {
        "id": "CXnePqu2BzU7"
      }
    },
    {
      "cell_type": "markdown",
      "source": [
        "№ 3.2.1\n",
        "\n",
        "Составьте программу, которая запрашивает у пользователя 2 целых числа и выполняет операции:\n",
        "\n",
        "арифметические: +, -, * , / , // , %, **;\n",
        "\n",
        "сравнение: <, <=, >, >=, !=, ==,\n",
        "\n",
        "выводя на экран результат каждого действия. В случае получение вещественного результата, округлите его до 2-х знаков после запятой (используя функцию round())."
      ],
      "metadata": {
        "id": "g-x6kputBxH_"
      }
    },
    {
      "cell_type": "code",
      "execution_count": null,
      "metadata": {
        "id": "YSGdkfskEir8",
        "colab": {
          "base_uri": "https://localhost:8080/"
        },
        "outputId": "775dca58-05b1-4270-d0ea-9c54fa2f248e"
      },
      "outputs": [
        {
          "output_type": "stream",
          "name": "stdout",
          "text": [
            "Enter a:2\n",
            "Enter b:3\n",
            "5\n",
            "-1\n",
            "6\n",
            "0.6666666666666666\n",
            "0.67\n",
            "0\n",
            "2\n",
            "8\n",
            "True\n",
            "True\n",
            "False\n",
            "False\n",
            "True\n",
            "False\n"
          ]
        }
      ],
      "source": [
        "a=int(input(\"Enter a:\"))\n",
        "b=int(input(\"Enter b:\"))\n",
        "print(a+b)\n",
        "print(a-b)\n",
        "print(a*b)\n",
        "print(a/b)\n",
        "print(round(a/b,2))\n",
        "print(a//b)\n",
        "print(a%b)\n",
        "print(a**b)\n",
        "print(a<b)\n",
        "print(a<=b)\n",
        "print(a>b)\n",
        "print(a>=b)\n",
        "print(a!=b)\n",
        "print(a==b)"
      ]
    },
    {
      "cell_type": "markdown",
      "source": [
        "№ 3.2.2\n",
        "\n",
        "Вычислите значение следующего выражения (аргументы - целые числа и вводятся с клавиатуры):\n",
        "![Снимок.JPG](data:image/jpeg;base64,/9j/4AAQSkZJRgABAQEAYABgAAD/4RDkRXhpZgAATU0AKgAAAAgABAE7AAIAAAA3AAAISodpAAQAAAABAAAIgpydAAEAAAA6AAAQouocAAcAAAgMAAAAPgAAAAAc6gAAAAgAAAAAAAAAAAAAAAAAAAAAAAAAAAAAAAAAAAAAAAAAAAAAAAAAAAAAAAAAAAAAAAAAAAAAAAAAAAAAAAAAAAAAAAAAAAAAAAAAAAAAAAAAAAAAAAAAAAAAAAAAAAAAAAAAAAAAAAAAAAAAAAAAAAAAAAAAAAAAAAAAAAAAAAAAAAAAAAAAAAAAAAAAAAAAAAAAAAAAAAAAAAAAAAAAAAAAAAAAAAAAAAAAAAAAAAAAAAAAAAAAAAAAAAAAAAAAAAAAAAAAAAAAAAAAAAAAAAAAAAAAAAAAAAAAAAAAAAAAAAAAAAAAAAAAAAAAAAAAAAAAAAAAAAAAAAAAAAAAAAAAAAAAAAAAAAAAAAAAAAAAAAAAAAAAAAAAAAAAAAAAAAAAAAAAAAAAAAAAAAAAAAAAAAAAAAAAAAAAAAAAAAAAAAAAAAAAAAAAAAAAAAAAAAAAAAAAAAAAAAAAAAAAAAAAAAAAAAAAAAAAAAAAAAAAAAAAAAAAAAAAAAAAAAAAAAAAAAAAAAAAAAAAAAAAAAAAAAAAAAAAAAAAAAAAAAAAAAAAAAAAAAAAAAAAAAAAAAAAAAAAAAAAAAAAAAAAAAAAAAAAAAAAAAAAAAAAAAAAAAAAAAAAAAAAAAAAAAAAAAAAAAAAAAAAAAAAAAAAAAAAAAAAAAAAAAAAAAAAAAAAAAAAAAAAAAAAAAAAAAAAAAAAAAAAAAAAAAAAAAAAAAAAAAAAAAAAAAAAAAAAAAAAAAAAAAAAAAAAAAAAAAAAAAAAAAAAAAAAAAAAAAAAAAAAAAAAAAAAAAAAAAAAAAAAAAAAAAAAAAAAAAAAAAAAAAAAAAAAAAAAAAAAAAAAAAAAAAAAAAAAAAAAAAAAAAAAAAAAAAAAAAAAAAAAAAAAAAAAAAAAAAAAAAAAAAAAAAAAAAAAAAAAAAAAAAAAAAAAAAAAAAAAAAAAAAAAAAAAAAAAAAAAAAAAAAAAAAAAAAAAAAAAAAAAAAAAAAAAAAAAAAAAAAAAAAAAAAAAAAAAAAAAAAAAAAAAAAAAAAAAAAAAAAAAAAAAAAAAAAAAAAAAAAAAAAAAAAAAAAAAAAAAAAAAAAAAAAAAAAAAAAAAAAAAAAAAAAAAAAAAAAAAAAAAAAAAAAAAAAAAAAAAAAAAAAAAAAAAAAAAAAAAAAAAAAAAAAAAAAAAAAAAAAAAAAAAAAAAAAAAAAAAAAAAAAAAAAAAAAAAAAAAAAAAAAAAAAAAAAAAAAAAAAAAAAAAAAAAAAAAAAAAAAAAAAAAAAAAAAAAAAAAAAAAAAAAAAAAAAAAAAAAAAAAAAAAAAAAAAAAAAAAAAAAAAAAAAAAAAAAAAAAAAAAAAAAAAAAAAAAAAAAAAAAAAAAAAAAAAAAAAAAAAAAAAAAAAAAAAAAAAAAAAAAAAAAAAAAAAAAAAAAAAAAAAAAAAAAAAAAAAAAAAAAAAAAAAAAAAAAAAAAAAAAAAAAAAAAAAAAAAAAAAAAAAAAAAAAAAAAAAAAAAAAAAAAAAAAAAAAAAAAAAAAAAAAAAAAAAAAAAAAAAAAAAAAAAAAAAAAAAAAAAAAAAAAAAAAAAAAAAAAAAAAAAAAAAAAAAAAAAAAAAAAAAAAAAAAAAAAAAAAAAAAAAAAAAAAAAAAAAAAAAAAAAAAAAAAAAAAAAAAAAAAAAAAAAAAAAAAAAAAAAAAAAAAAAAAAAAAAAAAAAAAAAAAAAAAAAAAAAAAAAAAAAAAAAAAAAAAAAAAAAAAAAAAAAAAAAAAAAAAAAAAAAAAAAAAAAAAAAAAAAAAAAAAAAAAAAAAAAAAAAAAAAAAAAAAAAAAAAAAAAAAAAAAAAAAAAAAAAAAAAAAAAAAAAAAAAAAAAAAAAAAAAAAAAAAAAAAAAAAAAAAAAAAAAAAAAAAAAAAAAAAAAAAAAAAAAAAAAAAAAAAAAAAAAAAAAAAAAAAAAAAAAAAAAAAAAAAAAAAAAAAAAAAAAAAAAAAAAAAAAAAAAAAAAAAAAAAAAAAAAAAAAAAAAAAAAAAAAAAAAAAAAAAAAAAAAAAAAAAAAAAAAAAAAAAAAAAAAAAAAAAAAAAAAAAAAAAAAAAAAAAAAAAAAAAAAAAAAAAAAAAAAAAAAAAAAAAAAAAAAAAAAAAAAAAAAAAAAAAAAAAAAAAAAAAAAAAAAAAAAAAAAAAAAAAAAAAAAAAAAAAAAAAAAAAAAAAAAAAAAAAAAAAAAAAAAAAAAAAAAAAAAAAAAAAAAAAAAAAAAAAAAAAAAAAAAAAAAAAAAAAAAAAAAAAAAAAAAAAAAAAAAAAAAAAAAAAAAAAAAAAAAAAAAAAAAAAAAAAAAAAAAAAAAAAAAAAAAAAAAAAAAAAAAAAAAAAAAAAAAAAAAAAAAAAAAAAAAAAAAAAAAAAAAAAAAAAAAAAAAAAAAAAAAAAAAAAAAAAAAAAAAAAAAAAAAAAAAAAAAAAAAAAAAAAAAAAAAAAAAAAAAAAAAAAAAAAAAAAAAAAAAAAAAAAAAAAAAAAAAAAAAAAAAAAAAAAAAAAAAAAAAAAAAAAAAAAAAAAAAAAAAAAAAAAAAAAAAAAAAAAAAAAAAAAAAAAAAAAAAAAAAAAAAAAAAAAAAAAAAAAAAAAAAAAAAAAAAAAAAAAAAAAAAAAAAAAAAAAAAAAAAAAAAAAAAAAAAAAAAAAAAAAAAAAAAAAAAAAAAAAAAAAAAAAAAAAAAAAAAAAAAAAAAAAAAAAAAAAAAAAAAAAAAAAANCg0L7QtNC40L7QvdC+0LLQsCDQldCy0LPQtdC90LjRjyDQnNC40YXQsNC50LvQvtCy0L3QsAAAAAHqHAAHAAAIDAAACJQAAAAAHOoAAAAIAAAAAAAAAAAAAAAAAAAAAAAAAAAAAAAAAAAAAAAAAAAAAAAAAAAAAAAAAAAAAAAAAAAAAAAAAAAAAAAAAAAAAAAAAAAAAAAAAAAAAAAAAAAAAAAAAAAAAAAAAAAAAAAAAAAAAAAAAAAAAAAAAAAAAAAAAAAAAAAAAAAAAAAAAAAAAAAAAAAAAAAAAAAAAAAAAAAAAAAAAAAAAAAAAAAAAAAAAAAAAAAAAAAAAAAAAAAAAAAAAAAAAAAAAAAAAAAAAAAAAAAAAAAAAAAAAAAAAAAAAAAAAAAAAAAAAAAAAAAAAAAAAAAAAAAAAAAAAAAAAAAAAAAAAAAAAAAAAAAAAAAAAAAAAAAAAAAAAAAAAAAAAAAAAAAAAAAAAAAAAAAAAAAAAAAAAAAAAAAAAAAAAAAAAAAAAAAAAAAAAAAAAAAAAAAAAAAAAAAAAAAAAAAAAAAAAAAAAAAAAAAAAAAAAAAAAAAAAAAAAAAAAAAAAAAAAAAAAAAAAAAAAAAAAAAAAAAAAAAAAAAAAAAAAAAAAAAAAAAAAAAAAAAAAAAAAAAAAAAAAAAAAAAAAAAAAAAAAAAAAAAAAAAAAAAAAAAAAAAAAAAAAAAAAAAAAAAAAAAAAAAAAAAAAAAAAAAAAAAAAAAAAAAAAAAAAAAAAAAAAAAAAAAAAAAAAAAAAAAAAAAAAAAAAAAAAAAAAAAAAAAAAAAAAAAAAAAAAAAAAAAAAAAAAAAAAAAAAAAAAAAAAAAAAAAAAAAAAAAAAAAAAAAAAAAAAAAAAAAAAAAAAAAAAAAAAAAAAAAAAAAAAAAAAAAAAAAAAAAAAAAAAAAAAAAAAAAAAAAAAAAAAAAAAAAAAAAAAAAAAAAAAAAAAAAAAAAAAAAAAAAAAAAAAAAAAAAAAAAAAAAAAAAAAAAAAAAAAAAAAAAAAAAAAAAAAAAAAAAAAAAAAAAAAAAAAAAAAAAAAAAAAAAAAAAAAAAAAAAAAAAAAAAAAAAAAAAAAAAAAAAAAAAAAAAAAAAAAAAAAAAAAAAAAAAAAAAAAAAAAAAAAAAAAAAAAAAAAAAAAAAAAAAAAAAAAAAAAAAAAAAAAAAAAAAAAAAAAAAAAAAAAAAAAAAAAAAAAAAAAAAAAAAAAAAAAAAAAAAAAAAAAAAAAAAAAAAAAAAAAAAAAAAAAAAAAAAAAAAAAAAAAAAAAAAAAAAAAAAAAAAAAAAAAAAAAAAAAAAAAAAAAAAAAAAAAAAAAAAAAAAAAAAAAAAAAAAAAAAAAAAAAAAAAAAAAAAAAAAAAAAAAAAAAAAAAAAAAAAAAAAAAAAAAAAAAAAAAAAAAAAAAAAAAAAAAAAAAAAAAAAAAAAAAAAAAAAAAAAAAAAAAAAAAAAAAAAAAAAAAAAAAAAAAAAAAAAAAAAAAAAAAAAAAAAAAAAAAAAAAAAAAAAAAAAAAAAAAAAAAAAAAAAAAAAAAAAAAAAAAAAAAAAAAAAAAAAAAAAAAAAAAAAAAAAAAAAAAAAAAAAAAAAAAAAAAAAAAAAAAAAAAAAAAAAAAAAAAAAAAAAAAAAAAAAAAAAAAAAAAAAAAAAAAAAAAAAAAAAAAAAAAAAAAAAAAAAAAAAAAAAAAAAAAAAAAAAAAAAAAAAAAAAAAAAAAAAAAAAAAAAAAAAAAAAAAAAAAAAAAAAAAAAAAAAAAAAAAAAAAAAAAAAAAAAAAAAAAAAAAAAAAAAAAAAAAAAAAAAAAAAAAAAAAAAAAAAAAAAAAAAAAAAAAAAAAAAAAAAAAAAAAAAAAAAAAAAAAAAAAAAAAAAAAAAAAAAAAAAAAAAAAAAAAAAAAAAAAAAAAAAAAAAAAAAAAAAAAAAAAAAAAAAAAAAAAAAAAAAAAAAAAAAAAAAAAAAAAAAAAAAAAAAAAAAAAAAAAAAAAAAAAAAAAAAAAAAAAAAAAAAAAAAAAAAAAAAAAAAAAAAAAAAAAAAAAAAAAAAAAAAAAAAAAAAAAAAAAAAAAAAAAAAAAAAAAAAAAAAAAAAAAAAAAAAAAAAAAAAAAAAAAAAAAAAAAAAAAAAAAAAAAAAAAAAAAAAAAAAAAAAAAAAAAAAAAAAAAAAAAAAAAAAAAAAAAAAAAAAAAAAAAAAAAAAAAAAAAAAAAAAAAAAAAAAAAAAAAAAAAAAAAAAAAAAAAAAAAAAAAAAAAAAAAAAAAAAAAAAAAAAAAAAAAAAAAAAAAAAAAAAAAAAAAAAAAAAAAAAAAAAAAAAAAAAAAAAAAAAAAAAAAAAAAAAAAAAAAAAAAAAAAAAAAAAAAAAAAAAAAAAAAAAAAAAAAAAAAAAAAAAAAAAAAAAAAAAAAAAAAAAAAAAAAAAAAAAAAAAAAAAAAAAAAAAAAAAAAAAAAAAAAAAAAAAAAAAAAAAAAAAAAAAAAAAAAAAAAAAAAAAAAAAAAAAAAAAAAAAAAAAAAAAAAAAAAAAAAAAAAAAAAAAAAAAAAAAAAAAAAAAAAAAAAAAAAAAAAAAAAAAAAAAAAAAAAAAAAAAAAAAAAAAAAAAAAAAAAAAAAAAAAAAAAAAAAAAAAAAAAAAAAAAAAAAAAAAAAAAAAAAAAAAAAAAAAAAAAAAAAAAAAAAAAAAAAAAAAAAAAAAAAAAAAAAAAAAAAAAAAAAAAAAAAAAAAAAAAAAAAAAAAAAAAAAAAAAAAAAAAAAAAAAAAAAAAAAAAAAAAAAAAAAAAAAAAAAAAAAAAAAAAAAAAAAAAAAAAAAAAAAAAAAAAAAAAAAAAAAAACAEPgQ0BDgEPgQ9BD4EMgQwBCAAFQQyBDMENQQ9BDgETwQgABwEOARFBDAEOQQ7BD4EMgQ9BDAEAAD/4QqPaHR0cDovL25zLmFkb2JlLmNvbS94YXAvMS4wLwA8P3hwYWNrZXQgYmVnaW49J++7vycgaWQ9J1c1TTBNcENlaGlIenJlU3pOVGN6a2M5ZCc/Pg0KPHg6eG1wbWV0YSB4bWxuczp4PSJhZG9iZTpuczptZXRhLyI+PHJkZjpSREYgeG1sbnM6cmRmPSJodHRwOi8vd3d3LnczLm9yZy8xOTk5LzAyLzIyLXJkZi1zeW50YXgtbnMjIj48cmRmOkRlc2NyaXB0aW9uIHJkZjphYm91dD0idXVpZDpmYWY1YmRkNS1iYTNkLTExZGEtYWQzMS1kMzNkNzUxODJmMWIiIHhtbG5zOmRjPSJodHRwOi8vcHVybC5vcmcvZGMvZWxlbWVudHMvMS4xLyIvPjxyZGY6RGVzY3JpcHRpb24gcmRmOmFib3V0PSJ1dWlkOmZhZjViZGQ1LWJhM2QtMTFkYS1hZDMxLWQzM2Q3NTE4MmYxYiIgeG1sbnM6ZGM9Imh0dHA6Ly9wdXJsLm9yZy9kYy9lbGVtZW50cy8xLjEvIj48ZGM6Y3JlYXRvcj48cmRmOlNlcSB4bWxuczpyZGY9Imh0dHA6Ly93d3cudzMub3JnLzE5OTkvMDIvMjItcmRmLXN5bnRheC1ucyMiPjxyZGY6bGk+0KDQvtC00LjQvtC90L7QstCwINCV0LLQs9C10L3QuNGPINCc0LjRhdCw0LnQu9C+0LLQvdCwPC9yZGY6bGk+PC9yZGY6U2VxPg0KCQkJPC9kYzpjcmVhdG9yPjwvcmRmOkRlc2NyaXB0aW9uPjwvcmRmOlJERj48L3g6eG1wbWV0YT4NCiAgICAgICAgICAgICAgICAgICAgICAgICAgICAgICAgICAgICAgICAgICAgICAgICAgICAgICAgICAgICAgICAgICAgICAgICAgICAgICAgICAgICAgICAgICAgICAgICAgICAKICAgICAgICAgICAgICAgICAgICAgICAgICAgICAgICAgICAgICAgICAgICAgICAgICAgICAgICAgICAgICAgICAgICAgICAgICAgICAgICAgICAgICAgICAgICAgICAgICAgIAogICAgICAgICAgICAgICAgICAgICAgICAgICAgICAgICAgICAgICAgICAgICAgICAgICAgICAgICAgICAgICAgICAgICAgICAgICAgICAgICAgICAgICAgICAgICAgICAgICAgCiAgICAgICAgICAgICAgICAgICAgICAgICAgICAgICAgICAgICAgICAgICAgICAgICAgICAgICAgICAgICAgICAgICAgICAgICAgICAgICAgICAgICAgICAgICAgICAgICAgICAKICAgICAgICAgICAgICAgICAgICAgICAgICAgICAgICAgICAgICAgICAgICAgICAgICAgICAgICAgICAgICAgICAgICAgICAgICAgICAgICAgICAgICAgICAgICAgICAgICAgIAogICAgICAgICAgICAgICAgICAgICAgICAgICAgICAgICAgICAgICAgICAgICAgICAgICAgICAgICAgICAgICAgICAgICAgICAgICAgICAgICAgICAgICAgICAgICAgICAgICAgCiAgICAgICAgICAgICAgICAgICAgICAgICAgICAgICAgICAgICAgICAgICAgICAgICAgICAgICAgICAgICAgICAgICAgICAgICAgICAgICAgICAgICAgICAgICAgICAgICAgICAKICAgICAgICAgICAgICAgICAgICAgICAgICAgICAgICAgICAgICAgICAgICAgICAgICAgICAgICAgICAgICAgICAgICAgICAgICAgICAgICAgICAgICAgICAgICAgICAgICAgIAogICAgICAgICAgICAgICAgICAgICAgICAgICAgICAgICAgICAgICAgICAgICAgICAgICAgICAgICAgICAgICAgICAgICAgICAgICAgICAgICAgICAgICAgICAgICAgICAgICAgCiAgICAgICAgICAgICAgICAgICAgICAgICAgICAgICAgICAgICAgICAgICAgICAgICAgICAgICAgICAgICAgICAgICAgICAgICAgICAgICAgICAgICAgICAgICAgICAgICAgICAKICAgICAgICAgICAgICAgICAgICAgICAgICAgICAgICAgICAgICAgICAgICAgICAgICAgICAgICAgICAgICAgICAgICAgICAgICAgICAgICAgICAgICAgICAgICAgICAgICAgIAogICAgICAgICAgICAgICAgICAgICAgICAgICAgICAgICAgICAgICAgICAgICAgICAgICAgICAgICAgICAgICAgICAgICAgICAgICAgICAgICAgICAgICAgICAgICAgICAgICAgCiAgICAgICAgICAgICAgICAgICAgICAgICAgICAgICAgICAgICAgICAgICAgICAgICAgICAgICAgICAgICAgICAgICAgICAgICAgICAgICAgICAgICAgICAgICAgICAgICAgICAKICAgICAgICAgICAgICAgICAgICAgICAgICAgICAgICAgICAgICAgICAgICAgICAgICAgICAgICAgICAgICAgICAgICAgICAgICAgICAgICAgICAgICAgICAgICAgICAgICAgIAogICAgICAgICAgICAgICAgICAgICAgICAgICAgICAgICAgICAgICAgICAgICAgICAgICAgICAgICAgICAgICAgICAgICAgICAgICAgICAgICAgICAgICAgICAgICAgICAgICAgCiAgICAgICAgICAgICAgICAgICAgICAgICAgICAgICAgICAgICAgICAgICAgICAgICAgICAgICAgICAgICAgICAgICAgICAgICAgICAgICAgICAgICAgICAgICAgICAgICAgICAKICAgICAgICAgICAgICAgICAgICAgICAgICAgICAgICAgICAgICAgICAgICAgICAgICAgICAgICAgICAgICAgICAgICAgICAgICAgICAgICAgICAgICAgICAgICAgICAgICAgIAogICAgICAgICAgICAgICAgICAgICAgICAgICAgICAgICAgICAgICAgICAgICAgICAgICAgICAgICAgICAgICAgICAgICAgICAgICAgICAgICAgICAgICAgICAgICAgICAgICAgCiAgICAgICAgICAgICAgICAgICAgICAgICAgICAgICAgICAgICAgICAgICAgICAgICAgICAgICAgICAgICAgICAgICAgICAgICAgICAgICAgICAgICAgICAgICAgICAgICAgICAKICAgICAgICAgICAgICAgICAgICAgICAgICAgICAgICAgICAgICAgICAgICAgICAgICAgICAgICAgICAgICAgICAgICAgICAgICAgICAgICAgICAgICAgICAgICAgICAgICAgIAogICAgICAgICAgICAgICAgICAgICAgICAgICAgPD94cGFja2V0IGVuZD0ndyc/Pv/bAEMABwUFBgUEBwYFBggHBwgKEQsKCQkKFQ8QDBEYFRoZGBUYFxseJyEbHSUdFxgiLiIlKCkrLCsaIC8zLyoyJyorKv/bAEMBBwgICgkKFAsLFCocGBwqKioqKioqKioqKioqKioqKioqKioqKioqKioqKioqKioqKioqKioqKioqKioqKioqKv/AABEIAIUA6gMBIgACEQEDEQH/xAAfAAABBQEBAQEBAQAAAAAAAAAAAQIDBAUGBwgJCgv/xAC1EAACAQMDAgQDBQUEBAAAAX0BAgMABBEFEiExQQYTUWEHInEUMoGRoQgjQrHBFVLR8CQzYnKCCQoWFxgZGiUmJygpKjQ1Njc4OTpDREVGR0hJSlNUVVZXWFlaY2RlZmdoaWpzdHV2d3h5eoOEhYaHiImKkpOUlZaXmJmaoqOkpaanqKmqsrO0tba3uLm6wsPExcbHyMnK0tPU1dbX2Nna4eLj5OXm5+jp6vHy8/T19vf4+fr/xAAfAQADAQEBAQEBAQEBAAAAAAAAAQIDBAUGBwgJCgv/xAC1EQACAQIEBAMEBwUEBAABAncAAQIDEQQFITEGEkFRB2FxEyIygQgUQpGhscEJIzNS8BVictEKFiQ04SXxFxgZGiYnKCkqNTY3ODk6Q0RFRkdISUpTVFVWV1hZWmNkZWZnaGlqc3R1dnd4eXqCg4SFhoeIiYqSk5SVlpeYmZqio6Slpqeoqaqys7S1tre4ubrCw8TFxsfIycrS09TV1tfY2dri4+Tl5ufo6ery8/T19vf4+fr/2gAMAwEAAhEDEQA/APo6iiigAooooAKKKKACiiigAooooAKKKKACiiigAooooAKKKKACiiigAooooAKKKKACiiigAooooAKKKKACiiigAooooAKKKKACiiigAooooAKKKKACiiigAooooAKKKKACiiigAooooAKKKKACiiigAooooAKKKKACiiigAooooAKKKKACiiigAooooAKKKKAMzxFdz2Xh28ms3Edzs8uBiM4kYhUOD1+YiohbeJAADq2ln3/syTn/AMj0zxD+/n0iy6i4v0Zh7RBpf5oo/GtokKpLHAHJJ7UdLh5GR9m8Sf8AQV0v/wAFkn/yRQbbxJkY1bSsd/8AiVyf/JFVJ/H3hq23faNRMe1RJlreX5kJIEi/L8yZH3xlenPIrP1TVWsPEl3e3eqXP9mW7WqNb2s8RCtI2AzrguBkqeCMjs1HUDb+zeJP+grpf/gsk/8Akil+zeI/+grpf/gsk/8Aj9a9UbrUvs2r2Fj5W77Z5nz7sbNi56Y5zmgCqLbxJznVtK9v+JXJ/wDJFH2bxJu/5C2lY9P7Lk/+SK2K8/1XVfHun/b7y2/sY2bXbRWVveRSmd/m2oq7MA7iMjPY5JA6HWwdDrIbfX1mQz6lprxBhvVNOkViO4BM5wffB+lalV7D7X/Z8H9pmE3nljzvIBCb8c7cknGfWrFPyEgooopDCiiigAooooAKKKKACiiigAooooAKKKKACiiigAooooAKhuru2soDNeXEVvEOskrhFH4mpqw9etX8QaI8GmGzuFaR43MzsNpAZTtZclXDcZwe4pO6Wg15hIy3njSz8tw8drYSTZU5BMjKqn8ketDVpWh0a8kSyN+ywORajGZ+D8nPr0rG8KWrxXuomcxvJarb2BeNNit5UQY7R2G6VuPatG88Q2Vjdvbzw6kzpjJg0u5mQ5GeHSMqevY+1OS0shRet2cTZGfVPE9/qOqeF7hln0+2tLOyubVjEfmLSBmZNqhXxywBIUEA5Fdxc+H9MvL0XVzbF5N6OV8xwjMn3WZAdrEdiQeg9BVb/hLNO/59tY/8Et5/8ao/4SzTv+fbWP8AwS3n/wAapiNe4iea3eOOeS3ZhgSxhSye43Aj8wa5LU9JvV8U6Ih8QakzN9ow5jtsp8g6Yhxz7g1rf8JZp3/PtrH/AIJbz/41TG8T6U8iSNZ6qzpnYx0O7yueuD5XFIZqWNpNaRstxqFzfFjkNcLGCvsNiKPzrm9UkuLr4q6JZtDIbO0s5rvfsOwyn5Bz0yBn/vqtP/hLNO/59tY/8Et5/wDGqP8AhLNO/wCfbWP/AAS3n/xqjrcOljborO0/XLTUrhobaK/RlXeTc6fPAuMgfekRQTz0zn8q0aACiiigAooooAKKKKACiiigAooooAKKKKACiiigAooooAKKKKAILxJ5LGdLORYrho2EcjDIRscHHfFcZ8Ky9po+r6PNI8j6Xqs8O+Q5ZlJ3Bj9ck13VeaJeN4f8beO406zWMd/Avq2wqfzYilqm7dn/AJ/5j3S9f+B+p2HhL95oIuzyb24mugfVXkYr/wCO7auarqX9mR2reV5v2i6it8bsbd7Yz05x6VLpdmunaRaWSfdt4EiH/AVA/pWZ4q/499M/7Clr/wCjBVOykktrpfK9ib3i35N/qbtFZ13qd3bXLRw6Jf3aDGJYXgCt9N8qn9KS31K8uZvKk0S+tAwP76Z4CqnHfZKx/Sp6XGZ13430y0uCPKuZrZLtbKS8iVTFHMxxs5YMxBPO0ECtS21L7RrV/p/lbfsiRN5m7O/eG7Y4xt/WvI9Ik1Dw78Ik1q0u7v8AtO31MqYPObY2Z9jRtHnac5JyRnJ68CvTdLOfGWuEjBMFrx+ElVbS/wDWyf6iekrf1u0b1FUJby/TXobSPTDJYPCzyX3nqPLcHhNnU59a5r4ivfx22nrp2oXFrNd3cVpbrA7JiR3BLsQfmARWG08c854wuq8x9ztKK5bRb+71H4ga+DcSGw0+OC1jiz8hlILu2PXkCupo6XDqFFFFABRRRQAUUUUAFFFFABRRRQAUUUUAFUdZ1e00LSJ9R1BmWCAAnaMsxJwFA7kkgfjV6uE+JCX15caBpVrcW6R3+pRAxvAzN+7y5YkOMqMD5cZ9xS6pB0bOn8Pa9a+JdFj1OwSaOGRmULMoVgVYqehI6jsTWpUcCzLboLl45JgvztGhRWPsCSQPxNZhufEeeNK0v/wZyf8AximBr0VRsZdVklYalZWdvHt+Vre7eUk+hBjXA980ajq1vpfl/aY7x/Mzt+zWU1xjGOvlq23r3xnnHQ0AXq8y8bWU3/C1/D3kL8mqw/ZZz6pFKsp/QYrsv+Es07/n21j/AMEt5/8AGqpXWr6LeanY389prJnsS5hP9i3eBvXaf+WXpQtJJ9g6NHUVj+I7aa5g08W8TSGPUbeRwoztUOCT9BTP+Es07/n21j/wS3n/AMao/wCEs07/AJ9tY/8ABLef/GqOqYdGjborE/4SzTv+fbWP/BLef/GqP+Es07/n21j/AMEt5/8AGqAJD4W0Y6h9sNn+8877QU8x/KMv/PTy87N/+1jPvSWFtNH4s1id4mWKaK2EbkcMVD5x9Mj86Z/wlmnf8+2sf+CW8/8AjVH/AAlmnf8APtrH/glvP/jVHkHmbdcx4ttNQvrrToodIXU9OR2lnEc3lTxSqP3TRv5ibec5Iycdquf8JZp3/PtrH/glvP8A41R/wlmnf8+2sf8AglvP/jVAEHgrw2/hrQ5Ibp1kvLq4e6uWV2cb3PQM3LYAAyeTjNdFWJ/wlmnf8+2sf+CW8/8AjVT2fiGyvrtLeCHUld84M+l3MKDAzy7xhR07n2pgalFFFIAooooAKKKKACiiigAooooAKKKKACuIsxqHiX4hW+oXmk3WnWehrcRxtcjHnyOQoZfUbQTkZHI5rt6KFvcOlgrIPhPw4Tk6Bpf/AIBR/wCFa9FAFGx0TStMlaXTdMs7ORl2s9vbrGSPQkDpSa5fS6boF9e20Xmz29u8kUZBO9wDgYHqcVfooeqBaM4qy8W+KjrWn6bqnhCK2e6PzyrqiPsRcb32BScDPc9SBnmu1rj/AAXf/wBt654m1OTkx6gbCLP8McSjgfVmY/jXTX0d/JGo025t7d8/M1xbtKCPQAOuPzNPon/WodWi1RWR9m8R/wDQV0v/AMFkn/x+r93dw2GnyXN9IFiiTMjBT+g5PPYcml0AZHq2nTM6w39rI0c3kOFmU7ZP7h54b260Xmq6dp0kMeoX9ravO22JZ5lQyH0UE8nkdPWuQ8PX/h258Qwx6fpjQX8YKfZI7NojZptJ3zbgBuOcA8n5yBkFiW/Fq4sk8OWFvfTwIJdStyY5XA3IH+Y4PYA8+lG1vOwd/I6n/hJdCNvJcDWtO8mJgkkn2pNqMegJzgH2qzLqdhBYLfT3tvHaMAVuHlURkHodxOOa8/h1TQl+LusXMt/p4X+yI0SVp0Azk7gDn0Az7VheCr2OO08G3t5dRHSrKK7jmkaQFLWdmbYZDnCZU4BPr70LX+vX/L8Qen9en+f4Hr8N/Z3Fj9tt7uCW12lvPSQMmB1O4cYrlIfEb3fxLs7TS9aivtKubGWV4oWikRJEKjhlG7oc4JPWuR1yG9v5/EGoaarT+HJNUsppfKXck6IB57qB95chckcHafQ1uy63o918ZdIls9QtJUbTJYRLHKpV3LjagYcE+w5oWrX9fZuEtE/l+f8AVzvby+tNOtmuNQuobWBSA0s8gRRn3PFKLu3MkKC4i3zqWiXeMyADJK+o5HSuY+JcbDwRe3UMTPcQxlY2GT5Qk/du+B6Izc9uay/DZsNT+IgGkXEdzp3h/SI7OGSJgyeY55ww4PyoBxQtXb+tv+G+8Hor/wBbo9BooooAKKKKACiiigAooooAKKKKACiiigAooooAKKKKACiiigBkcMUO7yY0j3sWbaoG4nqT70+iigAooooAKKKKACiiigAooooAydf0m71WK0/s/U5NPltblZ8qGZJQM/I6qykqc9M9qXQtCi0VLqQzNc3l7MZ7q5cYMj4xwOygcAdh69a1aKNg3CiiigAooooAKKKKACiiigAooooAKKKKACiiigAooooAKKKKACiiigAooooAKKKKACiiigAooooAKKKKACiiigAooooAKKKKACiiigD/2Q==)\n",
        "\n",
        "\n",
        "Округлите результат до 3-х знаков после запятой, используя функцию round()."
      ],
      "metadata": {
        "id": "U-0BlPH0B6Sn"
      }
    },
    {
      "cell_type": "code",
      "source": [
        "x=int(input(\"Enter x:\"))\n",
        "y=int(input(\"Enter y:\"))\n",
        "z=int(input(\"Enter z:\"))\n",
        "res1=((x**5+7)/(abs(-6)*y)**(1/3))\n",
        "res2=7-(z%y)\n",
        "res=res1/res2\n",
        "print(round(res,2))\n"
      ],
      "metadata": {
        "colab": {
          "base_uri": "https://localhost:8080/"
        },
        "id": "IsqsGa6zCioD",
        "outputId": "b0e58f40-35a0-4673-c3a3-4f57906ecf68"
      },
      "execution_count": null,
      "outputs": [
        {
          "output_type": "stream",
          "name": "stdout",
          "text": [
            "0\n",
            "1\n",
            "2\n",
            "0.55\n"
          ]
        }
      ]
    },
    {
      "cell_type": "markdown",
      "source": [
        "Дана электрическая цепь, состоящая из 2-х последовательно соединенных проводников (сопротивление каждого известно). Найти общее сопротивление цепи (округление результата необходимо выполнить до 1-го знака после запятой).\n",
        "\n",
        "Решение (начало и общий ход мыслей):\n",
        "\n",
        "Аналитическое решение.\n",
        "\n",
        "Проводники соединены последовательно, поэтому общее сопротивление цепи будет равно сумме их сопротивлений. Сопротивление может быть вещественным числом, поэтому для его хранения необходимо выбрать тип float.\n",
        "\n",
        "Алгоритм.\n",
        "\n",
        "- ввести 2 вещественных значения - сопротивления проводников;\n",
        "- вычислить их сумму;\n",
        "- вывести ответ на экран.\n",
        "Программа.\n"
      ],
      "metadata": {
        "id": "8G8kAEmTDZl0"
      }
    },
    {
      "cell_type": "code",
      "source": [
        "r1=float(input(\"Enter r1=\"))\n",
        "r2=float(input(\"Enter r2=\"))\n",
        "r=r1+r2\n",
        "print(round(r,1))\n"
      ],
      "metadata": {
        "colab": {
          "base_uri": "https://localhost:8080/"
        },
        "id": "kDT_zZVSD6Lg",
        "outputId": "f886f6bb-18a4-4299-b404-5565b9f170f9"
      },
      "execution_count": null,
      "outputs": [
        {
          "output_type": "stream",
          "name": "stdout",
          "text": [
            "r1=12.2\n",
            "r2=16.1\n",
            "28.3\n"
          ]
        }
      ]
    },
    {
      "cell_type": "markdown",
      "source": [
        "№ 3.2.4\n",
        "\n",
        "Дано двузначное и трехзначное число. Для каждого выведите на экран сумму и произведение цифр."
      ],
      "metadata": {
        "id": "BDqdJx2fEtcU"
      }
    },
    {
      "cell_type": "code",
      "source": [
        "num1=int(input(\"Enter num1:\"))\n",
        "num2=int(input(\"Enter num2:\"))\n",
        "num11=num1//10\n",
        "num12=num1%10\n",
        "print(\"Sum of num1:\", num11+num12)\n",
        "print(\"Product of num1:\", num11*num12)\n",
        "num21=num2//100\n",
        "num22=(num2%100)//10\n",
        "num23=num2%10\n",
        "print(\"Sum of num2:\", num21+num22+num23)\n",
        "print(\"Product of num2:\", num21*num22*num23)"
      ],
      "metadata": {
        "colab": {
          "base_uri": "https://localhost:8080/"
        },
        "id": "pfOLNSNdEsuY",
        "outputId": "b959d8a6-21d2-4ef3-ec2f-dd9a2bd0c46c"
      },
      "execution_count": null,
      "outputs": [
        {
          "output_type": "stream",
          "name": "stdout",
          "text": [
            "Enter num1:45\n",
            "Enter num2:456\n",
            "Sum of num1: 9\n",
            "Product of num1: 20\n",
            "Sum of num2: 15\n",
            "Product of num2: 120\n"
          ]
        }
      ]
    },
    {
      "cell_type": "markdown",
      "source": [
        "№ 3.2.5\n",
        "\n",
        "С начала суток прошло m минут (0<m≤24∗60). Определите:\n",
        "\n",
        "целое количество часов, прошедших с начала суток;\n",
        "\n",
        "количество минут, прошедших с момента начала последнего часа."
      ],
      "metadata": {
        "id": "_JZpunyzHVo_"
      }
    },
    {
      "cell_type": "code",
      "source": [
        "m=int(input(\"Enter m:\"))\n",
        "hour=(m//60)\n",
        "print(\"Hours from midnight:\", hour)\n",
        "hour2=(m%60)\n",
        "print(\"Since last hour:\",hour2)"
      ],
      "metadata": {
        "colab": {
          "base_uri": "https://localhost:8080/"
        },
        "id": "_LhguF1THuhx",
        "outputId": "2863e805-b32c-46ac-d0e3-6514a79a5ce0"
      },
      "execution_count": null,
      "outputs": [
        {
          "output_type": "stream",
          "name": "stdout",
          "text": [
            "Enter m:192\n",
            "Hours from midnight: 3\n",
            "Since last hour: 12\n"
          ]
        }
      ]
    },
    {
      "cell_type": "markdown",
      "source": [
        "№ 3.2.6\n",
        "\n",
        "Дано уравнение ax + b = 0 и отрезок [m;n]. Ответьте на вопрос, попадает ли решение уравнения в указанный отрезок.\n",
        "\n",
        "Решение (начало и общий ход мыслей):\n",
        "\n",
        "Аналитическое решение.\n",
        "\n",
        "Коэффициенты уравнения и величина отрезка - произвольны, возьмем целые числа. Решение x при этом может быть дробным. После определения x составим логическое выражение попадания в отрезок, что и будет ответом.\n",
        "\n",
        "Алгоритм.\n",
        "\n",
        "- ввести все неизвестные величины;\n",
        "- определить корень уравнения;\n",
        "- составить логическое выражение попадания корня в область;\n",
        "- вывести результат попадания на экран.\n",
        "Программа."
      ],
      "metadata": {
        "id": "DXzKmOOlIh8o"
      }
    },
    {
      "cell_type": "code",
      "source": [
        "a=int(input(\"Enter a:\"))\n",
        "b=int(input(\"Enter b:\"))\n",
        "m=int(input(\"Enter m:\"))\n",
        "n=int(input(\"Enter n:\"))\n",
        "x=-b//a\n",
        "kk=bool((x>=m)and(x<=n))\n",
        "print(\"Hit\", kk)"
      ],
      "metadata": {
        "colab": {
          "base_uri": "https://localhost:8080/"
        },
        "id": "OaLMUjueInSI",
        "outputId": "40cc3749-13cc-4485-a88e-8478b390c947"
      },
      "execution_count": null,
      "outputs": [
        {
          "output_type": "stream",
          "name": "stdout",
          "text": [
            "Enter a:1\n",
            "Enter b:2\n",
            "Enter m:-5\n",
            "Enter n:5\n",
            "Hit True\n"
          ]
        }
      ]
    }
  ]
}